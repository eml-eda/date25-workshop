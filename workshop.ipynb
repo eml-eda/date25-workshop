{
 "cells": [
  {
   "cell_type": "markdown",
   "metadata": {},
   "source": [
    "# DATE 2025 (W07.4)\n",
    "# Pushing TinyML Forward: End-to-end Near-Memory RISC-V Computing\n",
    "----\n",
    "\n",
    "<img src=\"assets/logo.png\" alt=\"MATCH logo\" width=\"1000\"/>\n",
    "\n",
    "**MATCH** (**M**odel-**A**ware **T**VM-based **C**ompiler for **H**eterogeneous hardware) is a DNN compiler that exploits [Apache TVM](https://tvm.apache.org/)'s BYOC framework, targeting the optimized deployment of DNN applications onto heterogeneous edge System-on-Chip (SoC) platforms.\n",
    "\n",
    "MATCH is designed to make the process of supporting new targets as simple as possible, thanks to a compilation process guided by _high-level model-based hardware abstractions_. \n",
    "\n",
    "The rest of this notebook shows how to extend MATCH to support the deployment of simple DNNs on the _**ARCANE**_ SoC.\n"
   ]
  },
  {
   "cell_type": "markdown",
   "metadata": {},
   "source": [
    "## Imports\n",
    "\n",
    "Set the required paths and import needed classes and functions from MATCH:"
   ]
  },
  {
   "cell_type": "code",
   "execution_count": 1,
   "metadata": {},
   "outputs": [],
   "source": [
    "import os\n",
    "import sys\n",
    "import match\n",
    "from match.target.target import MatchTarget\n",
    "from match.target.memory_inst import MemoryInst\n",
    "from match.transform.requant import MatchRequantRewriter\n",
    "from match.target.exec_module import ExecModule, ModuleLib\n",
    "from match.partition.partitioning_pattern import PartitioningPattern\n",
    "from match.target.exec_module import ComputationalApis\n",
    "from match.node.node import MatchNode\n",
    "from match.utils.utils import get_default_inputs\n",
    "from match.model.model import MatchModel\n",
    "from tvm.relay.dataflow_pattern import wildcard, is_op, is_constant\n",
    "from tvm import relay\n",
    "import onnx\n",
    "\n",
    "from utils import plot_results\n",
    "import numpy as np\n",
    "import matplotlib.pyplot as plt\n",
    "\n",
    "CURR_PATH = os.getcwd()"
   ]
  },
  {
   "cell_type": "markdown",
   "metadata": {},
   "source": [
    "## Defining a new target in MATCH\n",
    "\n",
    "The first step to support a new SoC in MATCH is to define:\n",
    "- The entire SoC as a subclass of the generic `MatchTarget` class.\n",
    "- Each accelerator (only one in this case, i.e., Arcane) as a subclass of `ExecModule`.\n"
   ]
  },
  {
   "cell_type": "markdown",
   "metadata": {},
   "source": [
    "### Defining an Accelerator (`ExecModule`)\n",
    "\n",
    "The code below contains the definition of the Arcane class:\n",
    "- The constructor defines the accelerator name and points to the paths of any required support library that should be compiled together with the generated inference code.\n",
    "- The `partitioning_patterns` method defines DNN graph patterns that this accelerator supports, each with optional constraints on geometry, data format, etc. In this example, for simplicity, we support `dense` operations with `int32` format, but in general we can match any number of patterns of arbitrary complexity.\n",
    "- The `comp_apis_def` method defines the APIs of the accelerator (in this case, only the computation APIs, but in general we also support APIs for accelerator setup, data transfer, etc). Essentially, for each pattern supported by the accelerator, it points to backend functions to execute the corresponding operation.\n",
    "- The `update_constants` method is overridden to modify the default data layout for constant tensors (i.e., weights) of TVM. This is needed because Arcane expects the weights of dense layers to be stored in the CN layout(input channels, output channels) instead of the default (NC).\n",
    "- The `include_list` method defines extra include paths for compilation.\n",
    "- If necessary for DSE, you can also override the `zigzag_cost_model` to return an instance of `match.cost_model.zigzag.ZigZagMatchCostModel` as detailed in the documentation.\n"
   ]
  },
  {
   "cell_type": "code",
   "execution_count": 2,
   "metadata": {},
   "outputs": [],
   "source": [
    "class Arcane(ExecModule):\n",
    "    def __init__(self):\n",
    "        super().__init__(\n",
    "            name = \"arcane\",\n",
    "            libs_required = {\n",
    "                \"arcane_helper\": ModuleLib(name=\"arcane_helper\", base_path=CURR_PATH+\"/arcane_helper\"),\n",
    "            },\n",
    "        )\n",
    "    \n",
    "    def partitioning_patterns(self):\n",
    "        def dense_pt():\n",
    "            \"\"\"Create pattern for matmul.\"\"\"\n",
    "            dense = is_op(\"nn.dense\")(\n",
    "                wildcard(), is_constant()\n",
    "            )\n",
    "            return dense\n",
    "        def only_int32_dense(node):\n",
    "            dense = node\n",
    "            if dense.checked_type.dtype != \"int32\":\n",
    "                return False\n",
    "            return True\n",
    "        return [\n",
    "            PartitioningPattern(\n",
    "                name=\"DENSE_PT\",\n",
    "                pattern=dense_pt,\n",
    "                additional_checks=only_int32_dense\n",
    "            ),\n",
    "        ]\n",
    "\n",
    "    def comp_apis_def(self, computational_apis: ComputationalApis=None, pattern_name = \"dense\"):\n",
    "        computational_apis.compute_tile = \"arcane_compute_wrapper\"\n",
    "        return computational_apis\n",
    "    \n",
    "    def update_constants(self, match_node: MatchNode=None, pattern_name: str=\"dense\"):\n",
    "        for w_tensor in match_node.const_tensors.values():\n",
    "            if \"dense\" in w_tensor.name:\n",
    "                if w_tensor.layout!=\"CN\":\n",
    "                    w_tensor.data = w_tensor.data.transpose(1,0)\n",
    "                    w_tensor.dims = [w_tensor.dims[1], w_tensor.dims[0]]\n",
    "                w_tensor.layout = \"CN\"\n",
    "                \n",
    "    def include_list(self):\n",
    "        return [\"arcane_helper/arcane_helper\"]\n",
    "\n",
    "    # def zigzag_cost_model(self):\n",
    "    #     return ExampleCostModel"
   ]
  },
  {
   "cell_type": "markdown",
   "metadata": {},
   "source": [
    "### Defining a Full SoC (`MatchTarget`)\n",
    "\n",
    "Next, we define the entire SoC, which in this case is based on the [X-Heep](https://github.com/esl-epfl/x-heep) platform, as a `MatchTarget`. In this case, the constructor defines:\n",
    "- The constructor defines SoC name and the list of its accelerators (`exec_modules`), as well as various paths and function names for compilation.\n",
    "- The `network_transformations` methods defines a set of custom DNN graph transformation passes to be executed when targeting this SoC. In our case, we use the built-in `MatchRequantRewriter` to replace demanding division operations during requantization with right shifts. Any number of transformations can be defined.\n",
    "- The `host_memories` method defines the memory hierarchy of the target (visible to TVM), which in this case contains a single-level L2 memory composed of 1024 32-bit words."
   ]
  },
  {
   "cell_type": "code",
   "execution_count": 3,
   "metadata": {},
   "outputs": [],
   "source": [
    "ARCANE_L2_MEMORY_SIZE = 8*32*1024\n",
    "\n",
    "class XHeepSoC(MatchTarget):\n",
    "    def __init__(self):\n",
    "        super().__init__(\n",
    "            exec_modules = [\n",
    "                Arcane()\n",
    "            ]\n",
    "            , name = \"xheepsoc\",\n",
    "        )\n",
    "        self.makefile_path = CURR_PATH+\"/arcane_lib/Makefile\"\n",
    "        self.tvm_runtime_include_path = CURR_PATH+\"/arcane_lib/tvm_runtime.h\"\n",
    "        self.tvm_runtime_src_path = CURR_PATH+\"/arcane_lib/tvm_runtime.c\"\n",
    "        self.init_funcs = [\"arcane_helper_init_l1_mem\"]\n",
    "        self.include_list = [\"arcane_helper/arcane_helper\"]\n",
    "\n",
    "    def network_transformations(self, opts):\n",
    "        return [\n",
    "            (\"requant\", MatchRequantRewriter()),\n",
    "        ]\n",
    "\n",
    "    def host_memories(self):\n",
    "        return [\n",
    "            MemoryInst(name=\"ARCANE_L2_MEM\", k_bytes=ARCANE_L2_MEMORY_SIZE),\n",
    "        ]"
   ]
  },
  {
   "cell_type": "markdown",
   "metadata": {},
   "source": [
    "## The `arcane_helper` Plugin Library\n",
    "MATCH's template-based compilation requires each accelerator to provide a backend library of elementary inference operations (usually in C/C++). This library clearly depends on the target, and is typically provided by the HW manufacturers. "
   ]
  },
  {
   "cell_type": "markdown",
   "metadata": {},
   "source": [
    "\n",
    "In our simple example, we just need to define two functions:\n",
    "- To initialize the accelerator\n",
    "- To perform computation (of a dense layer).\n",
    "Additional functions can be defined to support more DNN operations.\n",
    "\n",
    "```c\n",
    "void arcane_helper_init_l1_mem(){\n",
    "    l1_hal_init(0, l1_loader, sizeof(l1_loader), 1);\n",
    "}\n",
    "\n",
    "void arcane_compute_wrapper(MatchCtx* ctx){\n",
    "    MatchTensor* tensors = ctx->tensors->tensors;\n",
    "    int num_tensors = ctx->tensors->num_tensors;\n",
    "    int out_chs = tensors[num_tensors-1].tiles[1].size;\n",
    "    int inp_chs = tensors[0].tiles[1].size;\n",
    "    // reserve matrix in the ARCANE NMC module for the activations\n",
    "    xmr(m0, tensors[0].base_pt, 1, inp_chs, 1, 1);\n",
    "    // reserve matrix in the ARCANE NMC module for weights stored in CN format\n",
    "    xmr(m1, tensors[1].base_pt, inp_chs, out_chs, 1, 1);\n",
    "    // reserve matrix in the ARCANE NMC module for the outputs\n",
    "    xmr(m2, tensors[num_tensors-1].base_pt, 1, out_chs, 1, 1);\n",
    "    // dense op\n",
    "    carus_mmul_tiling(m2, m0, m1, mNONE, 0, 0);\n",
    "}\n",
    "```"
   ]
  },
  {
   "cell_type": "markdown",
   "metadata": {},
   "source": [
    "## Compiling the DNN\n",
    "\n",
    "Now that MATCH has been extended to support our SoC, we can compile full DNNs with it. In this example, we use an `int32` ONNX model of a MLP network for MNIST digit recognition. This ONNX can be generated with any ONNX-compilant framework. In our case, we used [PLiNIO](https://github.com/eml-eda/plinio/).\n",
    "\n",
    "You can view the network's graph by dragging and dropping the `.onnx` file in [Netron](https://netron.app)."
   ]
  },
  {
   "cell_type": "markdown",
   "metadata": {},
   "source": [
    "To compile it, we define a `MatchModel` as follows, where:\n",
    "- `default_inputs` is an optional parameter used to add a (properly converted) input to the generated code, for testing purposes.\n",
    "- `handle_out_fn` is the name of an optional function used to post-process the network output (in our case, determine the predicted class from the DNN scores."
   ]
  },
  {
   "cell_type": "code",
   "execution_count": 4,
   "metadata": {},
   "outputs": [],
   "source": [
    "onnx_file_path = CURR_PATH+\"/model/mnist.onnx\"\n",
    "input_path = f\"{CURR_PATH}/model/input.txt\"\n",
    "\n",
    "mnist_model = MatchModel(\n",
    "    filename=onnx_file_path,\n",
    "    model_name=\"mnist\",\n",
    "    default_inputs=get_default_inputs(\n",
    "        mod=relay.frontend.from_onnx(onnx.load(onnx_file_path))[0],\n",
    "        input_files=[input_path],\n",
    "    ),\n",
    "    handle_out_fn=\"mnist_handle_output\",\n",
    ")"
   ]
  },
  {
   "cell_type": "markdown",
   "metadata": {},
   "source": [
    "### Starting the Compilation\n",
    "\n",
    "The compilation can be ran with the following code:\n"
   ]
  },
  {
   "cell_type": "code",
   "execution_count": 5,
   "metadata": {},
   "outputs": [
    {
     "name": "stderr",
     "output_type": "stream",
     "text": [
      "2025-04-01 11:55:49,995 - parse_workload_from_path_or_from_module +42 - INFO - Created workload graph with 1 nodes and 0 edges.\n",
      "2025-04-01 11:55:49,996 - run +29 - INFO - Processing layer 0...\n",
      "2025-04-01 11:55:49,997 - run +89 - INFO - Launching spatial mapping 1/1: {'D1': ('K', 1), 'D2': ('OY', 1)}.\n",
      "2025-04-01 11:55:49,998 - run +74 - INFO - Running temporal mapping search engine...\n"
     ]
    },
    {
     "name": "stdout",
     "output_type": "stream",
     "text": [
      "-------------------\n",
      "[PATTERN MATCHER] Node matched pattern xheepsoc.arcane.DENSE_PT, checking additional conditions\n",
      "Looking for temporal mapping with following spatial mapping {'DENSE_PT': {'core_allocation': 1, 'spatial_mapping': {'D1': ('K', 1), 'D2': ('OY', 1)}, 'memory_operand_links': {'I': 'I1', 'W': 'I2', 'O': 'O'}, 'unordered_loops': ['FX', 'FY', 'C']}}\n"
     ]
    },
    {
     "name": "stderr",
     "output_type": "stream",
     "text": [
      " 12%|██████████████████▉                                                                                                                                    | 1/8 [00:00<00:00, 940.01it/s]\n",
      "2025-04-01 11:55:50,004 - run +44 - INFO - Saved CostModelEvaluation(layer=None, core=1) with energy 0.000e+00 and latency 0.000e+00 to tmp/match-layer_None_complete.json\n",
      "2025-04-01 11:55:50,005 - run +98 - INFO - Saved CostModelEvaluation(layer=None, core=1) with energy 0.000e+00 and latency 0.000e+00 to tmp/match-layer_None_simple.json\n",
      "2025-04-01 11:55:50,015 - run +146 - INFO - Saved pickled list of 1 CMEs to tmp/match-saved_list_of_cmes.pickle.\n",
      "2025-04-01 11:55:50,035 - parse_workload_from_path_or_from_module +42 - INFO - Created workload graph with 1 nodes and 0 edges.\n",
      "2025-04-01 11:55:50,036 - run +29 - INFO - Processing layer 0...\n",
      "2025-04-01 11:55:50,036 - run +89 - INFO - Launching spatial mapping 1/1: {'D1': ('K', 1), 'D2': ('OY', 1)}.\n",
      "2025-04-01 11:55:50,037 - run +74 - INFO - Running temporal mapping search engine...\n"
     ]
    },
    {
     "name": "stdout",
     "output_type": "stream",
     "text": [
      "[PATTERN MATCHER] Node is supported by xheepsoc.arcane.DENSE_PT with expected latency 0 and expected energy 0\n",
      "-------------------\n",
      "[PATTERN MATCHER] Node matched pattern xheepsoc.arcane.DENSE_PT, checking additional conditions\n",
      "Looking for temporal mapping with following spatial mapping {'DENSE_PT': {'core_allocation': 1, 'spatial_mapping': {'D1': ('K', 1), 'D2': ('OY', 1)}, 'memory_operand_links': {'I': 'I1', 'W': 'I2', 'O': 'O'}, 'unordered_loops': ['FX', 'FY', 'C']}}\n"
     ]
    },
    {
     "name": "stderr",
     "output_type": "stream",
     "text": [
      " 14%|█████████████████████▍                                                                                                                                | 1/7 [00:00<00:00, 1093.41it/s]\n",
      "2025-04-01 11:55:50,041 - run +44 - INFO - Saved CostModelEvaluation(layer=None, core=1) with energy 0.000e+00 and latency 0.000e+00 to tmp/match-layer_None_complete.json\n",
      "2025-04-01 11:55:50,042 - run +98 - INFO - Saved CostModelEvaluation(layer=None, core=1) with energy 0.000e+00 and latency 0.000e+00 to tmp/match-layer_None_simple.json\n",
      "2025-04-01 11:55:50,044 - run +146 - INFO - Saved pickled list of 1 CMEs to tmp/match-saved_list_of_cmes.pickle.\n",
      "2025-04-01 11:55:50,065 - parse_workload_from_path_or_from_module +42 - INFO - Created workload graph with 1 nodes and 0 edges.\n",
      "2025-04-01 11:55:50,066 - run +29 - INFO - Processing layer 0...\n",
      "2025-04-01 11:55:50,067 - run +89 - INFO - Launching spatial mapping 1/1: {'D1': ('K', 1), 'D2': ('OY', 1)}.\n",
      "2025-04-01 11:55:50,067 - run +74 - INFO - Running temporal mapping search engine...\n"
     ]
    },
    {
     "name": "stdout",
     "output_type": "stream",
     "text": [
      "[PATTERN MATCHER] Node is supported by xheepsoc.arcane.DENSE_PT with expected latency 0 and expected energy 0\n",
      "-------------------\n",
      "[PATTERN MATCHER] Node matched pattern xheepsoc.arcane.DENSE_PT, checking additional conditions\n",
      "Looking for temporal mapping with following spatial mapping {'DENSE_PT': {'core_allocation': 1, 'spatial_mapping': {'D1': ('K', 1), 'D2': ('OY', 1)}, 'memory_operand_links': {'I': 'I1', 'W': 'I2', 'O': 'O'}, 'unordered_loops': ['FX', 'FY', 'C']}}\n"
     ]
    },
    {
     "name": "stderr",
     "output_type": "stream",
     "text": [
      " 33%|██████████████████████████████████████████████████▎                                                                                                    | 2/6 [00:00<00:00, 817.76it/s]\n",
      "2025-04-01 11:55:50,072 - run +44 - INFO - Saved CostModelEvaluation(layer=None, core=1) with energy 0.000e+00 and latency 0.000e+00 to tmp/match-layer_None_complete.json\n",
      "2025-04-01 11:55:50,073 - run +98 - INFO - Saved CostModelEvaluation(layer=None, core=1) with energy 0.000e+00 and latency 0.000e+00 to tmp/match-layer_None_simple.json\n",
      "2025-04-01 11:55:50,075 - run +146 - INFO - Saved pickled list of 1 CMEs to tmp/match-saved_list_of_cmes.pickle.\n"
     ]
    },
    {
     "name": "stdout",
     "output_type": "stream",
     "text": [
      "[PATTERN MATCHER] Node is supported by xheepsoc.arcane.DENSE_PT with expected latency 0 and expected energy 0\n"
     ]
    },
    {
     "name": "stderr",
     "output_type": "stream",
     "text": [
      "2025-04-01 11:55:50,189 - select_implementation +256 - INFO - Using injective.cpu for multiply based on highest priority (10)\n",
      "2025-04-01 11:55:50,194 - select_implementation +256 - INFO - Using injective.cpu for add based on highest priority (10)\n",
      "2025-04-01 11:55:50,198 - select_implementation +256 - INFO - Using injective.cpu for right_shift based on highest priority (10)\n",
      "2025-04-01 11:55:50,203 - select_implementation +256 - INFO - Using injective.cpu for clip based on highest priority (10)\n",
      "2025-04-01 11:55:50,209 - select_implementation +256 - INFO - Using injective.cpu for multiply based on highest priority (10)\n",
      "2025-04-01 11:55:50,214 - select_implementation +256 - INFO - Using injective.cpu for add based on highest priority (10)\n",
      "2025-04-01 11:55:50,219 - select_implementation +256 - INFO - Using injective.cpu for right_shift based on highest priority (10)\n",
      "2025-04-01 11:55:50,224 - select_implementation +256 - INFO - Using injective.cpu for clip based on highest priority (10)\n",
      "2025-04-01 11:55:50,232 - select_implementation +256 - INFO - Using injective.cpu for add based on highest priority (10)\n"
     ]
    },
    {
     "name": "stdout",
     "output_type": "stream",
     "text": [
      "[TEMPLATE WRITER] Generating node main_2\n",
      "[TEMPLATE WRITER] Generating node main_1\n",
      "[TEMPLATE WRITER] Generating node main_0\n"
     ]
    },
    {
     "data": {
      "text/plain": [
       "{'mnist': <match.relay.compiled_module.CompiledModuleResult at 0xffff54bba9e0>}"
      ]
     },
     "execution_count": 5,
     "metadata": {},
     "output_type": "execute_result"
    }
   ],
   "source": [
    "match.match(\n",
    "    model=mnist_model,\n",
    "    target=XHeepSoC(),\n",
    "    output_path=CURR_PATH+\"/output\",\n",
    ")"
   ]
  },
  {
   "cell_type": "markdown",
   "metadata": {},
   "source": [
    "##  Generated Code\n",
    "\n",
    "The generated code is split over multiple files. \n",
    "- `./output/src/main.c` is the entry point, which essentially calls:\n",
    "    * The runtime function that runs the inference (`match_mnist_runtime`).\n",
    "    * The custom output handler function to interpret the results (`match_handle_output`).\n",
    "\n",
    "The runtime function (defined in `./output/src/mnist/runtime.c`), in turn, calls functions define in the `codegen` folder, which contains the most interesting part of the DNN-generated code:"
   ]
  },
  {
   "cell_type": "code",
   "execution_count": 6,
   "metadata": {
    "scrolled": true
   },
   "outputs": [
    {
     "name": "stdout",
     "output_type": "stream",
     "text": [
      "mnist_lib0.c  mnist_lib1.c  mnist_lib2.c  mnist_lib3.c\tmnist_lib4.c\n"
     ]
    }
   ],
   "source": [
    "!ls output/codegen/mnist/src/"
   ]
  },
  {
   "cell_type": "markdown",
   "metadata": {},
   "source": [
    "The first two files in this folder (`_lib0.c` and `_lib1.c`) contain TVM-generated functions, including constant allocations, lowered code for unsupported operations, and the main inference function. The remaining files (`_lib2.c` etc) contain BYOC-generated code. In our case, this corresponds to the functions implementing the matched dense layers.\n",
    "\n",
    "#### TVM-Generated Code"
   ]
  },
  {
   "cell_type": "code",
   "execution_count": 7,
   "metadata": {
    "scrolled": true
   },
   "outputs": [
    {
     "name": "stdout",
     "output_type": "stream",
     "text": [
      "#ifdef __cplusplus\n",
      "extern \"C\"\n",
      "#endif\n",
      "TVM_DLL int32_t tvmgen_mnist___tvm_main__(int32_t* match_inp_0_buffer_var, int32_t* output_buffer_var, uint8_t* global_const_workspace_0_var, uint8_t* global_workspace_1_var) {\n",
      "  void* sid_1_let = (&(global_workspace_1_var[512]));\n",
      "  void* sid_2_let = (&(global_workspace_1_var[0]));\n",
      "  void* sid_3_let = (&(global_workspace_1_var[512]));\n",
      "  void* sid_4_let = (&(global_workspace_1_var[0]));\n",
      "  void* sid_5_let = (&(global_workspace_1_var[256]));\n",
      "  if (tvmgen_mnist_match_main_0(match_inp_0_buffer_var, sid_1_let) != 0 ) return -1;\n",
      "  if (tvmgen_mnist_fused_multiply_add_right_shift_clip(sid_1_let, sid_2_let, global_const_workspace_0_var, global_workspace_1_var) != 0 ) return -1;\n",
      "  if (tvmgen_mnist_match_main_1(sid_2_let, sid_3_let) != 0 ) return -1;\n",
      "  if (tvmgen_mnist_fused_multiply_add_right_shift_clip_1(sid_3_let, sid_4_let, global_const_workspace_0_var, global_workspace_1_var) != 0 ) return -1;\n",
      "  if (tvmgen_mnist_match_main_2(sid_4_let, sid_5_let) != 0 ) return -1;\n",
      "  if (tvmgen_mnist_fused_add(sid_5_let, output_buffer_var, global_const_workspace_0_var, global_workspace_1_var) != 0 ) return -1;\n",
      "  return 0;\n",
      "}\n",
      "\n"
     ]
    }
   ],
   "source": [
    "!tail -n 18 output/codegen/mnist/src/mnist_lib1.c"
   ]
  },
  {
   "cell_type": "markdown",
   "metadata": {},
   "source": [
    "#### MATCH-generated Code"
   ]
  },
  {
   "cell_type": "code",
   "execution_count": 8,
   "metadata": {
    "scrolled": true
   },
   "outputs": [
    {
     "name": "stdout",
     "output_type": "stream",
     "text": [
      "/*\n",
      " * Mohamed Amine Hamdi <mohamed.hamdi@polito.it>\n",
      " *\n",
      " * Copyright (C) 2024 Politecnico Di Torino\n",
      " * \n",
      " * Licensed under the Apache License, Version 2.0 (the \"License\");\n",
      " * you may not use this file except in compliance with the License.\n",
      " * You may obtain a copy of the License at\n",
      " *\n",
      " *     http://www.apache.org/licenses/LICENSE-2.0\n",
      " *\n",
      " * Unless required by applicable law or agreed to in writing, software\n",
      " * distributed under the License is distributed on an \"AS IS\" BASIS,\n",
      " * WITHOUT WARRANTIES OR CONDITIONS OF ANY KIND, either express or implied.\n",
      " * See the License for the specific language governing permissions and\n",
      " * limitations under the License. \n",
      "*/\n",
      "// include params file\n",
      "#include <nodes/mnist/main_0_params.h>\n",
      "#ifdef __MATCH_TEST_NODE_WITH_HELPER__\n",
      "#include <xheepsoc/node_helper_nn.h>\n",
      "#endif\n",
      "\n",
      "int __attribute__ ((noinline)) tvmgen_mnist_match_main_0(\n",
      "    void* var_input_0_pt,\n",
      "    void* out_dense_out_pt\n",
      ")\n",
      "{\n",
      "    MatchCtx* ctx = main_0_ctx;\n",
      "\n",
      "\n",
      "    main_0_input_0->base_pt = var_input_0_pt;\n",
      "    main_0_input_0->pts[ARCANE_L2_MEM] = var_input_0_pt;\n",
      "    main_0_dense_out->base_pt = out_dense_out_pt;\n",
      "    main_0_dense_out->pts[ARCANE_L2_MEM] = out_dense_out_pt;\n",
      "    \n",
      "    main_0_dense_arg_1->base_pt = main_0_dense_arg_1_data;\n",
      "    main_0_dense_arg_1->pts[ARCANE_L2_MEM] = main_0_dense_arg_1_data;\n",
      "\n",
      "    #ifndef __MATCH_TEST_NODE_WITH_HELPER__\n",
      "\n",
      "    int tile_mem_offset = 0;\n",
      "    // block 0\n",
      "    int block_0_loads = 0;\n",
      "        \n",
      "    \n",
      "\n",
      "    arcane_compute_wrapper(ctx);\n",
      "\n",
      "        \n",
      "    \n",
      "\n",
      "    #endif\n",
      "    #ifdef __MATCH_TEST_NODE_WITH_HELPER__\n",
      "    run_node_schedule_nn(ctx);\n",
      "    #endif\n",
      "    return 0;\n",
      "}\n",
      "\n"
     ]
    }
   ],
   "source": [
    "!cat output/codegen/mnist/src/mnist_lib2.c"
   ]
  },
  {
   "cell_type": "markdown",
   "metadata": {},
   "source": [
    "## Host-only Compilation\n",
    "\n",
    "MATCH allows you to easily disable code generation for accelerators, thus generating a host-only version of the code, which can be useful to measure acceleration."
   ]
  },
  {
   "cell_type": "code",
   "execution_count": 9,
   "metadata": {},
   "outputs": [
    {
     "name": "stderr",
     "output_type": "stream",
     "text": [
      "2025-04-01 11:55:51,260 - select_implementation +256 - INFO - Using injective.cpu for squeeze based on highest priority (10)\n",
      "2025-04-01 11:55:51,297 - select_implementation +256 - INFO - Using injective.cpu for expand_dims based on highest priority (10)\n",
      "2025-04-01 11:55:51,339 - select_implementation +256 - INFO - Using injective.cpu for multiply based on highest priority (10)\n",
      "2025-04-01 11:55:51,366 - select_implementation +256 - INFO - Using injective.cpu for squeeze based on highest priority (10)\n",
      "2025-04-01 11:55:51,395 - select_implementation +256 - INFO - Using injective.cpu for expand_dims based on highest priority (10)\n",
      "2025-04-01 11:55:51,426 - select_implementation +256 - INFO - Using injective.cpu for multiply based on highest priority (10)\n",
      "2025-04-01 11:55:51,490 - select_implementation +253 - WARNING - One or more operators have not been tuned. Please tune your model for better performance. Use DEBUG logging level to see more details.\n",
      "2025-04-01 11:55:51,490 - select_implementation +256 - INFO - Using dense_pack.x86 for nn.dense based on highest priority (10)\n",
      "2025-04-01 11:55:51,500 - select_implementation +256 - INFO - Using dense_pack.x86 for nn.dense based on highest priority (10)\n",
      "2025-04-01 11:55:51,510 - select_implementation +256 - INFO - Using dense_pack.x86 for nn.dense based on highest priority (10)\n",
      "2025-04-01 11:55:51,533 - select_implementation +256 - INFO - Using layout_transform.generic for layout_transform based on highest priority (10)\n",
      "2025-04-01 11:55:51,570 - select_implementation +256 - INFO - Using layout_transform.generic for layout_transform based on highest priority (10)\n",
      "2025-04-01 11:55:51,613 - select_implementation +256 - INFO - Using layout_transform.generic for layout_transform based on highest priority (10)\n",
      "2025-04-01 11:55:51,702 - select_implementation +256 - INFO - Using dense_pack.x86 for nn.contrib_dense_pack based on highest priority (10)\n",
      "2025-04-01 11:55:51,707 - select_implementation +256 - INFO - Using injective.cpu for add based on highest priority (10)\n",
      "2025-04-01 11:55:51,719 - select_implementation +256 - INFO - Using injective.cpu for right_shift based on highest priority (10)\n",
      "2025-04-01 11:55:51,746 - select_implementation +256 - INFO - Using injective.cpu for clip based on highest priority (10)\n",
      "2025-04-01 11:55:51,759 - select_implementation +256 - INFO - Using dense_pack.x86 for nn.contrib_dense_pack based on highest priority (10)\n",
      "2025-04-01 11:55:51,764 - select_implementation +256 - INFO - Using injective.cpu for add based on highest priority (10)\n",
      "2025-04-01 11:55:51,769 - select_implementation +256 - INFO - Using injective.cpu for right_shift based on highest priority (10)\n",
      "2025-04-01 11:55:51,774 - select_implementation +256 - INFO - Using injective.cpu for clip based on highest priority (10)\n",
      "2025-04-01 11:55:51,786 - select_implementation +256 - INFO - Using dense_pack.x86 for nn.contrib_dense_pack based on highest priority (10)\n",
      "2025-04-01 11:55:51,791 - select_implementation +256 - INFO - Using injective.cpu for add based on highest priority (10)\n"
     ]
    },
    {
     "data": {
      "text/plain": [
       "{'mnist': <match.relay.compiled_module.CompiledModuleResult at 0xffff532c1390>}"
      ]
     },
     "execution_count": 9,
     "metadata": {},
     "output_type": "execute_result"
    }
   ],
   "source": [
    "arcane_cpu_only = XHeepSoC()\n",
    "arcane_cpu_only.disable_exec_module(\"arcane\")\n",
    "match.match(\n",
    "    model=mnist_model,\n",
    "    target=arcane_cpu_only,\n",
    "    output_path=CURR_PATH+\"/output_cpu\",\n",
    ")"
   ]
  },
  {
   "cell_type": "markdown",
   "metadata": {},
   "source": [
    "In this case, the codegen folder only contains TVM files, which also include lowered versions of dense layers:"
   ]
  },
  {
   "cell_type": "code",
   "execution_count": 10,
   "metadata": {
    "scrolled": true
   },
   "outputs": [
    {
     "name": "stdout",
     "output_type": "stream",
     "text": [
      "mnist_lib0.c  mnist_lib1.c\n"
     ]
    }
   ],
   "source": [
    "!ls ./output_cpu/codegen/mnist/src/"
   ]
  },
  {
   "cell_type": "code",
   "execution_count": 11,
   "metadata": {},
   "outputs": [
    {
     "name": "stdout",
     "output_type": "stream",
     "text": [
      "// tvm target: c -keys=riscv_cpu,cpu -device=riscv_cpu\n",
      "#define TVM_EXPORTS\n",
      "#include \"tvm/runtime/c_runtime_api.h\"\n",
      "#include \"tvm/runtime/c_backend_api.h\"\n",
      "#include <math.h>\n",
      "#include <stdbool.h>\n",
      "#ifdef __cplusplus\n",
      "extern \"C\"\n",
      "#endif\n",
      "TVM_DLL int32_t tvmgen_mnist_fused_nn_contrib_dense_pack_add(int32_t* p0, int32_t* T_add, uint8_t* global_const_workspace_6_var, uint8_t* global_workspace_7_var);\n",
      "#ifdef __cplusplus\n",
      "extern \"C\"\n",
      "#endif\n",
      "TVM_DLL int32_t tvmgen_mnist_fused_nn_contrib_dense_pack_add_right_shift_clip(int32_t* p0, int32_t* compute, uint8_t* global_const_workspace_2_var, uint8_t* global_workspace_3_var);\n",
      "#ifdef __cplusplus\n",
      "extern \"C\"\n",
      "#endif\n",
      "TVM_DLL int32_t tvmgen_mnist_fused_nn_contrib_dense_pack_add_right_shift_clip_1(int32_t* p0, int32_t* compute, uint8_t* global_const_workspace_4_var, uint8_t* global_workspace_5_var);\n",
      "#ifdef __cplusplus\n",
      "extern \"C\"\n",
      "#endif\n",
      "TVM_DLL int32_t tvmgen_mnist___tvm_main__(int32_t* match_inp_0_buffer_var, int32_t* output_buffer_var, uint8_t* global_const_workspace_0_var, uint8_t* global_workspace_1_var);\n",
      "#ifdef __cplusplus\n",
      "extern \"C\"\n",
      "#endif\n",
      "TVM_DLL int32_t tvmgen_mnist_fused_nn_contrib_dense_pack_add(int32_t* p0, int32_t* T_add, uint8_t* global_const_workspace_6_var, uint8_t* global_workspace_7_var) {\n",
      "  void* fused_nn_contrib_dense_pack_constant_2_let = (&(global_const_workspace_6_var[437504]));\n",
      "  void* fused_constant_2_let = (&(global_const_workspace_6_var[434176]));\n",
      "  for (int32_t ax1_outer_ax0_outer_fused = 0; ax1_outer_ax0_outer_fused < 2; ++ax1_outer_ax0_outer_fused) {\n",
      "    void* compute_global_let = (&(global_workspace_7_var[0]));\n",
      "    for (int32_t x_c_init = 0; x_c_init < 5; ++x_c_init) {\n",
      "      ((int32_t*)compute_global_let)[x_c_init] = 0;\n",
      "    }\n",
      "    for (int32_t k_outer = 0; k_outer < 64; ++k_outer) {\n",
      "      for (int32_t x_c = 0; x_c < 5; ++x_c) {\n",
      "        ((int32_t*)compute_global_let)[x_c] = (((int32_t*)compute_global_let)[x_c] + (p0[k_outer] * ((int32_t*)fused_constant_2_let)[(((ax1_outer_ax0_outer_fused * 320) + (k_outer * 5)) + x_c)]));\n",
      "      }\n",
      "    }\n",
      "    for (int32_t ax1_inner_inner = 0; ax1_inner_inner < 5; ++ax1_inner_inner) {\n",
      "      int32_t cse_var_1 = ((ax1_outer_ax0_outer_fused * 5) + ax1_inner_inner);\n",
      "      T_add[cse_var_1] = (((int32_t*)compute_global_let)[ax1_inner_inner] + ((int32_t*)fused_nn_contrib_dense_pack_constant_2_let)[cse_var_1]);\n",
      "    }\n",
      "  }\n",
      "  return 0;\n",
      "}\n",
      "\n",
      "#ifdef __cplusplus\n",
      "extern \"C\"\n",
      "#endif\n",
      "TVM_DLL int32_t tvmgen_mnist_fused_nn_contrib_dense_pack_add_right_shift_clip(int32_t* p0, int32_t* compute, uint8_t* global_const_workspace_2_var, uint8_t* global_workspace_3_var) {\n",
      "  void* fused_nn_contrib_dense_pack_constant_let = (&(global_const_workspace_2_var[436736]));\n",
      "  void* fused_constant_let = (&(global_const_workspace_2_var[0]));\n",
      "  for (int32_t i1_outer_i0_outer_fused = 0; i1_outer_i0_outer_fused < 4; ++i1_outer_i0_outer_fused) {\n",
      "    void* compute_let = (&(global_workspace_3_var[512]));\n",
      "    void* compute_global_let = (&(global_workspace_3_var[640]));\n",
      "    for (int32_t y_inner_outer_x_inner_outer_fused = 0; y_inner_outer_x_inner_outer_fused < 4; ++y_inner_outer_x_inner_outer_fused) {\n",
      "      for (int32_t x_c_init = 0; x_c_init < 8; ++x_c_init) {\n",
      "        ((int32_t*)compute_global_let)[x_c_init] = 0;\n",
      "      }\n",
      "      for (int32_t k_outer = 0; k_outer < 784; ++k_outer) {\n",
      "        for (int32_t x_c = 0; x_c < 8; ++x_c) {\n",
      "          ((int32_t*)compute_global_let)[x_c] = (((int32_t*)compute_global_let)[x_c] + (p0[k_outer] * ((int32_t*)fused_constant_let)[((((i1_outer_i0_outer_fused * 25088) + (y_inner_outer_x_inner_outer_fused * 6272)) + (k_outer * 8)) + x_c)]));\n",
      "        }\n",
      "      }\n",
      "      for (int32_t x_inner_inner = 0; x_inner_inner < 8; ++x_inner_inner) {\n",
      "        ((int32_t*)compute_let)[((y_inner_outer_x_inner_outer_fused * 8) + x_inner_inner)] = ((int32_t*)compute_global_let)[x_inner_inner];\n",
      "      }\n",
      "    }\n",
      "    for (int32_t i1_inner_outer = 0; i1_inner_outer < 4; ++i1_inner_outer) {\n",
      "      for (int32_t i1_inner_inner = 0; i1_inner_inner < 8; ++i1_inner_inner) {\n",
      "        int32_t cse_var_2 = (i1_inner_outer * 8);\n",
      "        int32_t cse_var_1 = (((i1_outer_i0_outer_fused * 32) + cse_var_2) + i1_inner_inner);\n",
      "        int32_t v_ = (((int32_t*)compute_let)[(cse_var_2 + i1_inner_inner)] + ((int32_t*)fused_nn_contrib_dense_pack_constant_let)[cse_var_1]) >> 15;\n",
      "        int32_t v__1 = (v_) < (255) ? (v_) : (255);\n",
      "        compute[cse_var_1] = ((v__1) > (0) ? (v__1) : (0));\n",
      "      }\n",
      "    }\n",
      "  }\n",
      "  return 0;\n",
      "}\n",
      "\n",
      "#ifdef __cplusplus\n",
      "extern \"C\"\n",
      "#endif\n",
      "TVM_DLL int32_t tvmgen_mnist_fused_nn_contrib_dense_pack_add_right_shift_clip_1(int32_t* p0, int32_t* compute, uint8_t* global_const_workspace_4_var, uint8_t* global_workspace_5_var) {\n",
      "  void* fused_nn_contrib_dense_pack_constant_1_let = (&(global_const_workspace_4_var[437248]));\n",
      "  void* fused_constant_1_let = (&(global_const_workspace_4_var[401408]));\n",
      "  for (int32_t i1_outer_i0_outer_fused = 0; i1_outer_i0_outer_fused < 4; ++i1_outer_i0_outer_fused) {\n",
      "    void* compute_let = (&(global_workspace_5_var[768]));\n",
      "    void* compute_global_let = (&(global_workspace_5_var[832]));\n",
      "    for (int32_t y_inner_outer_x_inner_outer_fused = 0; y_inner_outer_x_inner_outer_fused < 2; ++y_inner_outer_x_inner_outer_fused) {\n",
      "      for (int32_t x_c_init = 0; x_c_init < 8; ++x_c_init) {\n",
      "        ((int32_t*)compute_global_let)[x_c_init] = 0;\n",
      "      }\n",
      "      for (int32_t k_outer = 0; k_outer < 128; ++k_outer) {\n",
      "        for (int32_t x_c = 0; x_c < 8; ++x_c) {\n",
      "          ((int32_t*)compute_global_let)[x_c] = (((int32_t*)compute_global_let)[x_c] + (p0[k_outer] * ((int32_t*)fused_constant_1_let)[((((i1_outer_i0_outer_fused * 2048) + (y_inner_outer_x_inner_outer_fused * 1024)) + (k_outer * 8)) + x_c)]));\n",
      "        }\n",
      "      }\n",
      "      for (int32_t x_inner_inner = 0; x_inner_inner < 8; ++x_inner_inner) {\n",
      "        ((int32_t*)compute_let)[((y_inner_outer_x_inner_outer_fused * 8) + x_inner_inner)] = ((int32_t*)compute_global_let)[x_inner_inner];\n",
      "      }\n",
      "    }\n",
      "    for (int32_t i1_inner_outer = 0; i1_inner_outer < 2; ++i1_inner_outer) {\n",
      "      for (int32_t i1_inner_inner = 0; i1_inner_inner < 8; ++i1_inner_inner) {\n",
      "        int32_t cse_var_2 = (i1_inner_outer * 8);\n",
      "        int32_t cse_var_1 = (((i1_outer_i0_outer_fused * 16) + cse_var_2) + i1_inner_inner);\n",
      "        int32_t v_ = (((int32_t*)compute_let)[(cse_var_2 + i1_inner_inner)] + ((int32_t*)fused_nn_contrib_dense_pack_constant_1_let)[cse_var_1]) >> 15;\n",
      "        int32_t v__1 = (v_) < (255) ? (v_) : (255);\n",
      "        compute[cse_var_1] = ((v__1) > (0) ? (v__1) : (0));\n",
      "      }\n",
      "    }\n",
      "  }\n",
      "  return 0;\n",
      "}\n",
      "\n",
      "#ifdef __cplusplus\n",
      "extern \"C\"\n",
      "#endif\n",
      "TVM_DLL int32_t tvmgen_mnist___tvm_main__(int32_t* match_inp_0_buffer_var, int32_t* output_buffer_var, uint8_t* global_const_workspace_0_var, uint8_t* global_workspace_1_var) {\n",
      "  void* sid_1_let = (&(global_workspace_1_var[0]));\n",
      "  void* sid_2_let = (&(global_workspace_1_var[512]));\n",
      "  if (tvmgen_mnist_fused_nn_contrib_dense_pack_add_right_shift_clip(match_inp_0_buffer_var, sid_1_let, global_const_workspace_0_var, global_workspace_1_var) != 0 ) return -1;\n",
      "  if (tvmgen_mnist_fused_nn_contrib_dense_pack_add_right_shift_clip_1(sid_1_let, sid_2_let, global_const_workspace_0_var, global_workspace_1_var) != 0 ) return -1;\n",
      "  if (tvmgen_mnist_fused_nn_contrib_dense_pack_add(sid_2_let, output_buffer_var, global_const_workspace_0_var, global_workspace_1_var) != 0 ) return -1;\n",
      "  return 0;\n",
      "}\n",
      "\n"
     ]
    }
   ],
   "source": [
    "!cat ./output_cpu/codegen/mnist/src/mnist_lib1.c"
   ]
  },
  {
   "cell_type": "markdown",
   "metadata": {},
   "source": [
    "## Analyzing Relay IR\n",
    "\n",
    "We can also compare the TVM Relay IR graphs generated with/without support for the Arcane accelerator.\n",
    "\n",
    "In the first case, we offload dense operations to ARCANE exploiting MATCH:"
   ]
  },
  {
   "cell_type": "code",
   "execution_count": 12,
   "metadata": {
    "vscode": {
     "languageId": "shellscript"
    }
   },
   "outputs": [
    {
     "name": "stdout",
     "output_type": "stream",
     "text": [
      "def @main(%match_inp_0: Tensor[(1, 784), int32] /* ty=Tensor[(1, 784), int32] */) -> Tensor[(1, 10), int32] {\n",
      "  %0 = @tvmgen_mnist_match_main_0(%match_inp_0) /* ty=Tensor[(1, 128), int32] */;\n",
      "  %1 = multiply(%0, meta[relay.Constant][0] /* ty=Tensor[(1, 128), int32] span=/fc1/Constant:0:0 */) /* ty=Tensor[(1, 128), int32] span=/fc1/Mul:0:0 */;\n",
      "  %2 = add(%1, meta[relay.Constant][1] /* ty=Tensor[(1, 128), int32] span=/fc1/Constant_1:0:0 */) /* ty=Tensor[(1, 128), int32] span=/fc1/Add:0:0 */;\n",
      "  %3 = right_shift(%2, 15 /* ty=int32 */) /* ty=Tensor[(1, 128), int32] */;\n",
      "  %4 = clip(%3, a_min=0f, a_max=255f) /* ty=Tensor[(1, 128), int32] span=/fc1/Clip:0:0 */;\n",
      "  %5 = @tvmgen_mnist_match_main_1(%4) /* ty=Tensor[(1, 64), int32] */;\n",
      "  %6 = multiply(%5, meta[relay.Constant][2] /* ty=Tensor[(1, 64), int32] span=/fc2/Constant:0:0 */) /* ty=Tensor[(1, 64), int32] span=/fc2/Mul:0:0 */;\n",
      "  %7 = add(%6, meta[relay.Constant][3] /* ty=Tensor[(1, 64), int32] span=/fc2/Constant_1:0:0 */) /* ty=Tensor[(1, 64), int32] span=/fc2/Add:0:0 */;\n",
      "  %8 = right_shift(%7, 15 /* ty=int32 */) /* ty=Tensor[(1, 64), int32] */;\n",
      "  %9 = clip(%8, a_min=0f, a_max=255f) /* ty=Tensor[(1, 64), int32] span=/fc2/Clip:0:0 */;\n",
      "  %10 = @tvmgen_mnist_match_main_2(%9) /* ty=Tensor[(1, 10), int32] */;\n",
      "  add(%10, meta[relay.Constant][4] /* ty=Tensor[(1, 10), int32] span=/fc3/Constant:0:0 */) /* ty=Tensor[(1, 10), int32] span=/fc3/Add:0:0 */\n",
      "}\n",
      "\n",
      "def @tvmgen_mnist_match_main_0(%match_0_i0: Tensor[(1, 784), int32] /* ty=Tensor[(1, 784), int32] */, Compiler=\"match\", Primitive=1, Inline=1, global_symbol=\"tvmgen_mnist_match_main_0\") -> Tensor[(1, 128), int32] {\n",
      "  %11 = fn (%FunctionVar_2_0: Tensor[(1, 784), int32] /* ty=Tensor[(1, 784), int32] */, PartitionedFromPattern=\"nn.dense_\", Composite=\"match.xheepsoc.arcane.DENSE_PT\") -> Tensor[(1, 128), int32] {\n",
      "    nn.dense(%FunctionVar_2_0, meta[relay.Constant][5] /* ty=Tensor[(128, 784), int32] span=/fc1/MatMul:0:0 */, units=None, out_dtype=\"int32\") /* ty=Tensor[(1, 128), int32] span=/fc1/MatMul:0:0 */\n",
      "  } /* ty=fn (Tensor[(1, 784), int32]) -> Tensor[(1, 128), int32] */;\n",
      "  %11(%match_0_i0) /* ty=Tensor[(1, 128), int32] */\n",
      "}\n",
      "\n",
      "def @tvmgen_mnist_match_main_1(%match_1_i0: Tensor[(1, 128), int32] /* ty=Tensor[(1, 128), int32] */, Compiler=\"match\", Primitive=1, Inline=1, global_symbol=\"tvmgen_mnist_match_main_1\") -> Tensor[(1, 64), int32] {\n",
      "  %12 = fn (%FunctionVar_1_0: Tensor[(1, 128), int32] /* ty=Tensor[(1, 128), int32] */, PartitionedFromPattern=\"nn.dense_\", Composite=\"match.xheepsoc.arcane.DENSE_PT\") -> Tensor[(1, 64), int32] {\n",
      "    nn.dense(%FunctionVar_1_0, meta[relay.Constant][6] /* ty=Tensor[(64, 128), int32] span=/fc2/MatMul:0:0 */, units=None, out_dtype=\"int32\") /* ty=Tensor[(1, 64), int32] span=/fc2/MatMul:0:0 */\n",
      "  } /* ty=fn (Tensor[(1, 128), int32]) -> Tensor[(1, 64), int32] */;\n",
      "  %12(%match_1_i0) /* ty=Tensor[(1, 64), int32] */\n",
      "}\n",
      "\n",
      "def @tvmgen_mnist_match_main_2(%match_2_i0: Tensor[(1, 64), int32] /* ty=Tensor[(1, 64), int32] */, Compiler=\"match\", Primitive=1, Inline=1, global_symbol=\"tvmgen_mnist_match_main_2\") -> Tensor[(1, 10), int32] {\n",
      "  %13 = fn (%FunctionVar_0_0: Tensor[(1, 64), int32] /* ty=Tensor[(1, 64), int32] */, PartitionedFromPattern=\"nn.dense_\", Composite=\"match.xheepsoc.arcane.DENSE_PT\") -> Tensor[(1, 10), int32] {\n",
      "    nn.dense(%FunctionVar_0_0, meta[relay.Constant][7] /* ty=Tensor[(10, 64), int32] span=/fc3/MatMul:0:0 */, units=None, out_dtype=\"int32\") /* ty=Tensor[(1, 10), int32] span=/fc3/MatMul:0:0 */\n",
      "  } /* ty=fn (Tensor[(1, 64), int32]) -> Tensor[(1, 10), int32] */;\n",
      "  %13(%match_2_i0) /* ty=Tensor[(1, 10), int32] */\n",
      "}\n",
      "\n"
     ]
    }
   ],
   "source": [
    "!cat output/models/mnist/relay/mnist.relay"
   ]
  },
  {
   "cell_type": "markdown",
   "metadata": {},
   "source": [
    "While in the CPU-only version everything is handled by the host:"
   ]
  },
  {
   "cell_type": "code",
   "execution_count": 13,
   "metadata": {
    "scrolled": true,
    "vscode": {
     "languageId": "shellscript"
    }
   },
   "outputs": [
    {
     "name": "stdout",
     "output_type": "stream",
     "text": [
      "def @main(%match_inp_0: Tensor[(1, 784), int32] /* ty=Tensor[(1, 784), int32] */) -> Tensor[(1, 10), int32] {\n",
      "  %0 = nn.dense(%match_inp_0, meta[relay.Constant][0] /* ty=Tensor[(128, 784), int32] span=/fc1/MatMul:0:0 */, units=None, out_dtype=\"int32\") /* ty=Tensor[(1, 128), int32] span=/fc1/MatMul:0:0 */;\n",
      "  %1 = multiply(%0, meta[relay.Constant][1] /* ty=Tensor[(1, 128), int32] span=/fc1/Constant:0:0 */) /* ty=Tensor[(1, 128), int32] span=/fc1/Mul:0:0 */;\n",
      "  %2 = add(%1, meta[relay.Constant][2] /* ty=Tensor[(1, 128), int32] span=/fc1/Constant_1:0:0 */) /* ty=Tensor[(1, 128), int32] span=/fc1/Add:0:0 */;\n",
      "  %3 = right_shift(%2, 15 /* ty=int32 */) /* ty=Tensor[(1, 128), int32] */;\n",
      "  %4 = clip(%3, a_min=0f, a_max=255f) /* ty=Tensor[(1, 128), int32] span=/fc1/Clip:0:0 */;\n",
      "  %5 = nn.dense(%4, meta[relay.Constant][3] /* ty=Tensor[(64, 128), int32] span=/fc2/MatMul:0:0 */, units=None, out_dtype=\"int32\") /* ty=Tensor[(1, 64), int32] span=/fc2/MatMul:0:0 */;\n",
      "  %6 = multiply(%5, meta[relay.Constant][4] /* ty=Tensor[(1, 64), int32] span=/fc2/Constant:0:0 */) /* ty=Tensor[(1, 64), int32] span=/fc2/Mul:0:0 */;\n",
      "  %7 = add(%6, meta[relay.Constant][5] /* ty=Tensor[(1, 64), int32] span=/fc2/Constant_1:0:0 */) /* ty=Tensor[(1, 64), int32] span=/fc2/Add:0:0 */;\n",
      "  %8 = right_shift(%7, 15 /* ty=int32 */) /* ty=Tensor[(1, 64), int32] */;\n",
      "  %9 = clip(%8, a_min=0f, a_max=255f) /* ty=Tensor[(1, 64), int32] span=/fc2/Clip:0:0 */;\n",
      "  %10 = nn.dense(%9, meta[relay.Constant][6] /* ty=Tensor[(10, 64), int32] span=/fc3/MatMul:0:0 */, units=None, out_dtype=\"int32\") /* ty=Tensor[(1, 10), int32] span=/fc3/MatMul:0:0 */;\n",
      "  add(%10, meta[relay.Constant][7] /* ty=Tensor[(1, 10), int32] span=/fc3/Constant:0:0 */) /* ty=Tensor[(1, 10), int32] span=/fc3/Add:0:0 */\n",
      "}\n",
      "\n"
     ]
    }
   ],
   "source": [
    "!cat output_cpu/models/mnist/relay/mnist.relay"
   ]
  },
  {
   "cell_type": "markdown",
   "metadata": {},
   "source": [
    "If you are interested, the `models/mnist/relay` folder contains the evolution of the graph throughout the compilation. For instance, we can see that in the final one (`mnist.relay`)e `right_shift` operations are used instead of divisions."
   ]
  },
  {
   "cell_type": "markdown",
   "metadata": {},
   "source": [
    "## Testing on the Hardware\n",
    "\n",
    "To generate the final binary for the target, you need to go into the `output` (or `output_cpu`) folders, from a Docker terminal and compile the generated C code. This step requires a target-specific C compilation environment, and will be skipped for sake of brevity.\n",
    "\n",
    "Let's flash a pre-compiled the board and see if the model works correclty. For reference, the sample input we compiled together with the network is the following:"
   ]
  },
  {
   "cell_type": "code",
   "execution_count": 14,
   "metadata": {
    "scrolled": true
   },
   "outputs": [
    {
     "data": {
      "text/plain": [
       "<matplotlib.image.AxesImage at 0xffff51f47700>"
      ]
     },
     "execution_count": 14,
     "metadata": {},
     "output_type": "execute_result"
    },
    {
     "data": {
      "image/png": "[encoded data removed]",
      "text/plain": [
       "<Figure size 640x480 with 1 Axes>"
      ]
     },
     "metadata": {},
     "output_type": "display_data"
    }
   ],
   "source": [
    "x = np.loadtxt(input_path).reshape([28, 28])\n",
    "plt.imshow(x)"
   ]
  },
  {
   "cell_type": "markdown",
   "metadata": {},
   "source": [
    "## Acceleration Results"
   ]
  },
  {
   "cell_type": "markdown",
   "metadata": {},
   "source": [
    "We profiled the accelerated and the host-only code and we obtained the following results:"
   ]
  },
  {
   "cell_type": "code",
   "execution_count": 15,
   "metadata": {},
   "outputs": [
    {
     "data": {
      "image/png": "[encoded data removed]",
      "text/plain": [
       "<Figure size 1000x300 with 1 Axes>"
      ]
     },
     "metadata": {},
     "output_type": "display_data"
    }
   ],
   "source": [
    "plot_results()"
   ]
  },
  {
   "cell_type": "code",
   "execution_count": null,
   "metadata": {},
   "outputs": [],
   "source": []
  }
 ],
 "metadata": {
  "kernelspec": {
   "display_name": "Python 3 (ipykernel)",
   "language": "python",
   "name": "python3"
  },
  "language_info": {
   "codemirror_mode": {
    "name": "ipython",
    "version": 3
   },
   "file_extension": ".py",
   "mimetype": "text/x-python",
   "name": "python",
   "nbconvert_exporter": "python",
   "pygments_lexer": "ipython3",
   "version": "3.10.12"
  }
 },
 "nbformat": 4,
 "nbformat_minor": 4
}
